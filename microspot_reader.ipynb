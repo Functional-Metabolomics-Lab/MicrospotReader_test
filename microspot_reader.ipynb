{
 "cells": [
  {
   "cell_type": "markdown",
   "metadata": {},
   "source": [
    "# Detection and Quantification of Microspots\n",
    "\n",
    "---\n",
    "\n",
    "**Updated on:** 2023-09-11\n",
    "\n",
    "> Authors: Simon Knoblauch (simon.knoblauch@student.uni-tuebingen.de)  \n",
    "> Input file format: .tif\n",
    "> Output file formats: None currently  \n",
    "> Dependencies: imageio, pandas, numpy, skimage, matplotlib, ipympl  \n",
    "\n",
    "**Please read the comments before proceeding to run the code and let us know if you run into any errors or find undocumented pieces of code.**"
   ]
  },
  {
   "cell_type": "code",
   "execution_count": null,
   "metadata": {},
   "outputs": [],
   "source": [
    "# Importing dependencies\n",
    "import imageio.v3 as iio\n",
    "import pandas as pd\n",
    "import skimage\n",
    "import matplotlib.pyplot as plt\n",
    "import numpy as np\n",
    "import ipympl\n",
    "%matplotlib widget"
   ]
  }
 ],
 "metadata": {
  "kernelspec": {
   "display_name": "main",
   "language": "python",
   "name": "python3"
  },
  "language_info": {
   "name": "python",
   "version": "3.11.4"
  },
  "orig_nbformat": 4
 },
 "nbformat": 4,
 "nbformat_minor": 2
}
